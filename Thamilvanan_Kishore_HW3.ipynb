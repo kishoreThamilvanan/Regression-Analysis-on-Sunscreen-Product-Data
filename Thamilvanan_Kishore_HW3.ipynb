{
 "cells": [
  {
   "cell_type": "markdown",
   "metadata": {},
   "source": [
    "# CSE351 HW3\n",
    "## June 28th at 11:59 pm\n",
    "Stock market prediction\n",
    "1.  Download HW3 data from the folder data in Documents on Blackboard, which lists daily signal and price values of S&P 500.\n",
    "\n",
    "\n",
    "\t\n",
    "2.  The aim of this project is to test a data source (signal, second column in data.csv) which claims to be predictive of future returns of the SP500 index (spy_close_price, third column in data.csv).  We use SPY (SPDR S&P 500 ETF) as a proxy for the SP500 index. \n",
    "\n",
    "\n",
    "\n",
    "3.  The signal and spy_close_price are both received at the same time at the end of the day on the date listed in column 1.  We do not know how the signal is generated or have a prior conviction about the forecast horizon over which the signal is supposed to be effective, nor its stationarity. \n",
    "\n",
    "\n",
    "\n",
    "\n",
    "4.  The first step in this endeavor is data cleaning.  Assume all values in data.csv are potentially suspect, and please identify any errors in the data, flag them with a note, and suggest a corrected value or if advisable, you may choose to ignore them for purposes of your analysis.  Please explain what types of analysis you did to identify the errors, and provide any assumptions/intuition/formulas/scripts you may have used to help you find them.\n",
    "\n",
    "\n",
    "\n",
    "5.  Given the cleaned/censored version of the data you created in (4), please perform an analysis of the predictive power of signal with respect to spy_close_price.  This analysis must be based on linear regression. report the performace of linear regression model, scatter plots befor and after clearning the data. and explain if the signal can be a good predictive for the stock price. Also compute the correlation between the signal and price.\n",
    "\n",
    "\n",
    "Please document all experiment(s) you performed (including relevant code, package references, etc) and summarize your conclusions about the viability and shortcomings of this signal as a predictor of spy_close_price, including any materials you feel are appropriate to support your conclusions (eg, graphs, tables, etc).  Use this jupyter notebook file.\n",
    "\n",
    "\n"
   ]
  },
  {
   "cell_type": "code",
   "execution_count": 1,
   "metadata": {},
   "outputs": [],
   "source": [
    "from sklearn.metrics import mean_squared_error\n",
    "from sklearn.metrics import r2_score\n",
    "from sklearn import datasets\n",
    "from sklearn.model_selection import cross_val_predict\n",
    "from sklearn import linear_model\n",
    "import matplotlib.pyplot as plt\n",
    "import numpy as np\n",
    "import pandas as pd\n"
   ]
  },
  {
   "cell_type": "code",
   "execution_count": 2,
   "metadata": {},
   "outputs": [],
   "source": [
    "#  reading the csv file.\n",
    "filename = 'HW3_data.csv'\n",
    "raw_data = pd.read_csv(filename)\n",
    "\n",
    "# if there are any NaN values, I am filling them with the mean of the data.\n",
    "raw_data = raw_data.fillna(raw_data.mean())\n"
   ]
  },
  {
   "cell_type": "code",
   "execution_count": 3,
   "metadata": {},
   "outputs": [
    {
     "name": "stdout",
     "output_type": "stream",
     "text": [
      "raw_data_rows =  667\n",
      "\n",
      " number of null values in the raw data: \n",
      "\n",
      "date               0\n",
      "signal             0\n",
      "spy_close_price    0\n",
      "dtype: int64\n"
     ]
    }
   ],
   "source": [
    "# total number of data present in the raw file that we read. \n",
    "print(\"raw_data_rows = \",raw_data.shape[0])\n",
    "print(\"\\n number of null values in the raw data: \\n\")\n",
    "print(raw_data.isnull().sum())\n"
   ]
  },
  {
   "cell_type": "code",
   "execution_count": 4,
   "metadata": {},
   "outputs": [
    {
     "data": {
      "text/plain": [
       "Text(0, 0.5, 'Spy_close_price')"
      ]
     },
     "execution_count": 4,
     "metadata": {},
     "output_type": "execute_result"
    },
    {
     "data": {
      "image/png": "[encoded data removed]",
      "text/plain": [
       "<Figure size 432x288 with 1 Axes>"
      ]
     },
     "metadata": {
      "needs_background": "light"
     },
     "output_type": "display_data"
    }
   ],
   "source": [
    "# plotting a graph with the raw data that we obtained.\n",
    "\n",
    "x = raw_data.iloc[:, :2].drop(['date'], axis = 1)\n",
    "y = raw_data.iloc[:, :3].drop(['date', 'signal'], axis = 1)\n",
    "plt.scatter(x, y)\n",
    "plt.xlabel('Signal', fontsize = 16)\n",
    "plt.ylabel(\"Spy_close_price\", fontsize = 16)\n",
    "\n",
    "# print(y.shape)"
   ]
  },
  {
   "cell_type": "code",
   "execution_count": 5,
   "metadata": {},
   "outputs": [
    {
     "data": {
      "text/plain": [
       "LinearRegression(copy_X=True, fit_intercept=True, n_jobs=None,\n",
       "         normalize=False)"
      ]
     },
     "execution_count": 5,
     "metadata": {},
     "output_type": "execute_result"
    }
   ],
   "source": [
    "from sklearn.model_selection import train_test_split\n",
    "from sklearn.linear_model import LinearRegression\n",
    "\n",
    "X_train, X_test, y_train, y_test = train_test_split(x, y, random_state = 0)\n",
    "lr = LinearRegression()\n",
    "lr.fit(X_train, y_train)\n"
   ]
  },
  {
   "cell_type": "code",
   "execution_count": 6,
   "metadata": {},
   "outputs": [
    {
     "name": "stdout",
     "output_type": "stream",
     "text": [
      "MSE value of the uncleaned data:  1704.94522399558\n"
     ]
    }
   ],
   "source": [
    "from sklearn import metrics\n",
    "\n",
    "mse_val = metrics.mean_squared_error(y_test,lr.predict(X_test))\n",
    "print(\"MSE value of the uncleaned data: \", mse_val)\n"
   ]
  },
  {
   "cell_type": "code",
   "execution_count": 7,
   "metadata": {},
   "outputs": [
    {
     "name": "stdout",
     "output_type": "stream",
     "text": [
      "R2 score of uncleaned data:  -0.0007425711562483173\n"
     ]
    }
   ],
   "source": [
    "y_pred = lr.predict(X_test)\n",
    "\n",
    "uncleaned_r2score = r2_score(y_test, y_pred)\n",
    "print(\"R2 score of uncleaned data: \", uncleaned_r2score)\n"
   ]
  },
  {
   "cell_type": "code",
   "execution_count": 8,
   "metadata": {},
   "outputs": [
    {
     "name": "stdout",
     "output_type": "stream",
     "text": [
      "Correlation coefficient of the uncleaned data:  [0.04816833]\n"
     ]
    }
   ],
   "source": [
    "print(\"Correlation coefficient of the uncleaned data: \", lr.coef_[0])\n"
   ]
  },
  {
   "cell_type": "code",
   "execution_count": 9,
   "metadata": {},
   "outputs": [
    {
     "data": {
      "image/png": "[encoded data removed]",
      "text/plain": [
       "<Figure size 432x288 with 1 Axes>"
      ]
     },
     "metadata": {
      "needs_background": "light"
     },
     "output_type": "display_data"
    }
   ],
   "source": [
    "plt.scatter(X_test, y_test)\n",
    "# plt.plot(X_test, y_pred, color='black', markerfacecolor = 'red', marker = 'o')\n",
    "\n",
    "plt.show()"
   ]
  },
  {
   "cell_type": "markdown",
   "metadata": {},
   "source": [
    "*****************************************************************************************\n",
    ":\n",
    ": Cleaning up of the data\n",
    ":\n",
    "*****************************************************************************************"
   ]
  },
  {
   "cell_type": "code",
   "execution_count": 10,
   "metadata": {},
   "outputs": [
    {
     "name": "stdout",
     "output_type": "stream",
     "text": [
      "cleaned data number of rows:  658\n",
      "\n",
      "The outliers are:\n",
      "\n",
      "         date      signal  spy_close_price\n",
      "303  20130326   -3.802670         156.1900\n",
      "421  20130912    4.193204         618.9500\n",
      "422  20130913    4.143689         619.3300\n",
      "423  20130916    4.124515         710.3100\n",
      "459  20131105  429.514563         176.2700\n",
      "460  20131106  432.961165         177.1700\n",
      "570  20140414    0.004560         182.9401\n",
      "571  20140415    0.454976         184.2000\n",
      "572  20140416    0.455898         186.1250\n"
     ]
    }
   ],
   "source": [
    "# Identifying the outliers.\n",
    "q1 = raw_data.quantile(0.25)\n",
    "q3 = raw_data.quantile(0.75)\n",
    "\n",
    "iqr = q3-q1\n",
    "\n",
    "lq = q1 - 1.5 * iqr\n",
    "hq = q3 + 1.5 * iqr\n",
    "\n",
    "# dropping the outliers \n",
    "outliers = ((raw_data < lq) | (raw_data > hq))\n",
    "unoutlied_data = raw_data[~outliers.any(axis=1)]\n",
    "\n",
    "print(\"cleaned data number of rows: \", unoutlied_data.shape[0])\n",
    "print(\"\\nThe outliers are:\\n\")\n",
    "print(raw_data[outliers.any(axis=1)])\n",
    "\n",
    "# we drop the outliers from the existing table and proceed further.\n"
   ]
  },
  {
   "cell_type": "code",
   "execution_count": 11,
   "metadata": {},
   "outputs": [],
   "source": [
    "# normalizing the data \n",
    "date = unoutlied_data.iloc[:, 1]\n",
    "drpdata = unoutlied_data.drop(['date'], axis=1)\n",
    "# print(drpdata)\n",
    "\n",
    "normalized_data = (drpdata - drpdata.mean())/drpdata.std()\n",
    "# normalized_data\n"
   ]
  },
  {
   "cell_type": "code",
   "execution_count": 12,
   "metadata": {},
   "outputs": [
    {
     "data": {
      "text/plain": [
       "Text(0, 0.5, 'Spy_close_price')"
      ]
     },
     "execution_count": 12,
     "metadata": {},
     "output_type": "execute_result"
    },
    {
     "data": {
      "image/png": "[encoded data removed]",
      "text/plain": [
       "<Figure size 432x288 with 1 Axes>"
      ]
     },
     "metadata": {
      "needs_background": "light"
     },
     "output_type": "display_data"
    }
   ],
   "source": [
    "# segregating x and y values for the graph\n",
    "cdata = unoutlied_data\n",
    "b = cdata.iloc[:, :2].drop(['date'], axis=1)\n",
    "c = cdata.iloc[:, :3].drop(['date','signal'], axis=1)\n",
    "\n",
    "\n",
    "# plotting the cleaned up data\n",
    "plt.scatter(b, c)\n",
    "plt.xlabel('Signal', fontsize=16)\n",
    "plt.ylabel('Spy_close_price', fontsize=16)\n"
   ]
  },
  {
   "cell_type": "code",
   "execution_count": 13,
   "metadata": {},
   "outputs": [
    {
     "data": {
      "text/plain": [
       "LinearRegression(copy_X=True, fit_intercept=True, n_jobs=None,\n",
       "         normalize=False)"
      ]
     },
     "execution_count": 13,
     "metadata": {},
     "output_type": "execute_result"
    }
   ],
   "source": [
    "\n",
    "# train splitting\n",
    "b_train, b_test, c_train, c_test = train_test_split(b, c, random_state = 0)\n",
    "lr = LinearRegression()\n",
    "\n",
    "lr.fit(b_train, c_train)"
   ]
  },
  {
   "attachments": {
    "Capture.PNG": {
     "image/png": "[encoded data removed]"
    }
   },
   "cell_type": "markdown",
   "metadata": {},
   "source": [
    "The value of MSE when the data is normalized changes. The value is as follows.\n",
    "\n",
    "\n",
    "![Capture.PNG](attachment:Capture.PNG)"
   ]
  },
  {
   "cell_type": "code",
   "execution_count": 14,
   "metadata": {},
   "outputs": [
    {
     "name": "stdout",
     "output_type": "stream",
     "text": [
      "MSE value of the unnormalized data:  3.8134450011132657\n"
     ]
    }
   ],
   "source": [
    "mse_val = metrics.mean_squared_error(c_test,lr.predict(b_test))\n",
    "print(\"MSE value of the unnormalized data: \", mse_val)\n"
   ]
  },
  {
   "cell_type": "code",
   "execution_count": 15,
   "metadata": {},
   "outputs": [
    {
     "name": "stdout",
     "output_type": "stream",
     "text": [
      "R2 score of cleaned data:  0.9914005333996418\n"
     ]
    }
   ],
   "source": [
    "# calculating the predicted values using the b_test\n",
    "c_pred = lr.predict(b_test)\n",
    "\n",
    "cleaned_r2score = r2_score(c_test, c_pred)\n",
    "print(\"R2 score of cleaned data: \", cleaned_r2score)\n"
   ]
  },
  {
   "cell_type": "markdown",
   "metadata": {},
   "source": [
    "The value of R2 does not change by normalization. It remains the same for both normalized and unnormalized data."
   ]
  },
  {
   "cell_type": "code",
   "execution_count": 16,
   "metadata": {},
   "outputs": [],
   "source": [
    "from sklearn.model_selection import cross_val_score, cross_val_predict\n",
    "predicted = cross_val_predict(lr, unoutlied_data, c, cv = 10)\n"
   ]
  },
  {
   "cell_type": "code",
   "execution_count": 17,
   "metadata": {},
   "outputs": [
    {
     "data": {
      "text/plain": [
       "40.666201684371124"
      ]
     },
     "execution_count": 17,
     "metadata": {},
     "output_type": "execute_result"
    }
   ],
   "source": [
    "\n",
    "# Calculating the coefficient of correlation with the cleaned up data\n",
    "lr.coef_[0,0]\n"
   ]
  },
  {
   "cell_type": "code",
   "execution_count": 18,
   "metadata": {},
   "outputs": [
    {
     "data": {
      "image/png": "[encoded data removed]",
      "text/plain": [
       "<Figure size 432x288 with 1 Axes>"
      ]
     },
     "metadata": {
      "needs_background": "light"
     },
     "output_type": "display_data"
    }
   ],
   "source": [
    "plt.scatter(c, predicted)\n",
    "plt.xlabel('Measured price')\n",
    "plt.ylabel('Predicted price')\n",
    "plt.show()\n"
   ]
  },
  {
   "cell_type": "markdown",
   "metadata": {},
   "source": [
    "This graph shows us a remarkable correlation between the predicted prices and the actual SPy_close_price values using cross val prediction. This shows, how good our linear regression model is."
   ]
  },
  {
   "attachments": {
    "Capture.PNG": {
     "image/png": "[encoded data removed]"
    }
   },
   "cell_type": "markdown",
   "metadata": {},
   "source": [
    "Conclusion:\n",
    "\n",
    "![Capture.PNG](attachment:Capture.PNG)\n",
    "\n",
    "In accordance with the above shown data and the graphs, this data which claims to be predictive of future returns of the SP500 index seems to be about right and consistent.\n",
    "\n",
    "The performance of the linear regression model after cleaning up off the data is very good. The data is very consistent and  thereby, the signal can be used as a good prdictor of the stock prices.\n",
    "\n",
    "R-square is defined as the proportion of variance explained by the fit, if the fit is actually worse than just fitting a horizontal line then R-square is negative. Thereby, the negative value of r-squared before cleaning the data indicate that the data had some outliers which impacted the rsquared value and the plot as well. But the positive r squared value of 0.9914,  after the clean up indicates that the data is now consistent and has a excellent fit. \n",
    "\n",
    "Furthermore, The value of Mean Squared Error before the clean up of data was very large. MSE = 1704.94. This indicates that there is a lot of loss in our function i.e. the uncleaned data. But, The very low value of MSE = 3.813 after the clean up of data indicates that the cleaned up data is consistent and has less loss.\n",
    "\n",
    "The coefficent of correlation value remains the same before and after the clean up of data.\n",
    "The value is coef_ = 40.667 \n",
    "\n",
    "The value of coefficient of correlation is significantly above 0 which strongly implies that there is significant correlation between the data obtained for signal and Spy_close_price. \n"
   ]
  },
  {
   "cell_type": "code",
   "execution_count": null,
   "metadata": {},
   "outputs": [],
   "source": []
  }
 ],
 "metadata": {
  "kernelspec": {
   "display_name": "Python 3",
   "language": "python",
   "name": "python3"
  },
  "language_info": {
   "codemirror_mode": {
    "name": "ipython",
    "version": 3
   },
   "file_extension": ".py",
   "mimetype": "text/x-python",
   "name": "python",
   "nbconvert_exporter": "python",
   "pygments_lexer": "ipython3",
   "version": "3.7.3"
  }
 },
 "nbformat": 4,
 "nbformat_minor": 2
}
